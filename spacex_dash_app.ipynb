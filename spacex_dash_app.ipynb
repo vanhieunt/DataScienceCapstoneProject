{
    "cells": [
        {
            "cell_type": "code",
            "execution_count": null,
            "metadata": {
                "collapsed": true
            },
            "outputs": [],
            "source": "# Import required libraries\nimport pandas as pd\nimport dash\nimport dash_html_components as html\nimport dash_core_components as dcc\nfrom dash.dependencies import Input, Output\nimport plotly.express as px\n\n# Read the airline data into pandas dataframe\nspacex_df = pd.read_csv(\"spacex_launch_dash.csv\")\nmax_payload = spacex_df['Payload Mass (kg)'].max()\nmin_payload = spacex_df['Payload Mass (kg)'].min()\n\n# Create a dash application\napp = dash.Dash(__name__)\n\n# Create an app layout\napp.layout = html.Div(children=[html.H1('SpaceX Launch Records Dashboard',\n                                        style={'textAlign': 'center', 'color': '#503D36',\n                                               'font-size': 40}),\n                                # TASK 1: Add a dropdown list to enable Launch Site selection\n                                # The default select value is for ALL sites\n                                html.P(\"Launch Success Ratio\"),\n                                dcc.Dropdown(id='site-dropdown', \n                                    options=[{'label': 'All sites', 'value': 'all'},\n                                            {'label': 'CCAFS LC-40', 'value': 'CCAFS LC-40'},\n                                            {'label': 'VAFB SLC-4E', 'value': 'VAFB SLC-4E'},\n                                            {'label': 'KSC LC-39A', 'value': 'KSC LC-39A'},\n                                            {'label': 'CCAFS SLC-40', 'value': 'CCAFS SLC-40'}],\n                                    value='all',\n                                    multi=False,\n                                    searchable=True,\n                                    placeholder='Select a Launch Site here'),\n                                #html.Br(),\n\n                                # TASK 2: Add a pie chart to show the total successful launches count for all sites\n                                # If a specific launch site was selected, show the Success vs. Failed counts for the site\n                                html.Div(dcc.Graph(id='success-pie-chart')),\n                                html.Br(),\n\n                                html.P(\"Payload range (Kg):\"),\n                                # TASK 3: Add a slider to select payload range\n                                dcc.RangeSlider(id='payload-slider',min = 0, max = 10000, step = 1000, value = [min_payload,max_payload] ),\n\n                                # TASK 4: Add a scatter chart to show the correlation between payload and launch success\n                                html.Div(dcc.Graph(id='success-payload-scatter-chart')),\n                                    ])\n\n# TASK 2:\n# Add a callback function for `site-dropdown` as input, `success-pie-chart` as output\n@app.callback( Output(component_id='success-pie-chart', component_property='figure'),\n               Input(component_id='site-dropdown', component_property='value'))\n               \n# Add computation to callback function and return graph\ndef get_graph_pie(site_dropdown):\n        df_pie =  spacex_df[['Launch Site','class']] \n        if site_dropdown == 'all':\n            pie_fig = px.pie(df_pie, values='class', names='Launch Site', title='Total success launch by site')\n            \n            return pie_fig\n                \n        else:\n            pie_title = f\"Success launch rate for {site_dropdown}\"\n            df_pie1 =  df_pie[df_pie['Launch Site']==site_dropdown]\n            df_pie1_LS = df_pie1.groupby(['Launch Site', 'class']).size().reset_index(name='class count')\n            pie_fig1 = px.pie(df_pie1_LS, values='class count', names='class', title=pie_title)\n            \n            return pie_fig1\n# TASK 4:\n# Add a callback function for `site-dropdown` and `payload-slider` as inputs, `success-payload-scatter-chart` as output\n@app.callback( Output(component_id='success-payload-scatter-chart', component_property='figure'),\n               [Input(component_id='site-dropdown', component_property='value'), \n               Input(component_id=\"payload-slider\", component_property=\"value\")] )\n               \n# Add computation to callback function and return graph\ndef get_graph_scatter(site_dropdown,slider_range):\n        low = slider_range[0]\n        high = slider_range[1]\n        slide_df = spacex_df[spacex_df['Payload Mass (kg)'].between(low,high)]\n        df_scatter =  slide_df[['Launch Site','class','Payload Mass (kg)', 'Booster Version', 'Booster Version Category']] \n        if site_dropdown == 'all':         \n            scatter_fig = px.scatter(df_scatter, x='Payload Mass (kg)', y = 'class', color=\"Booster Version Category\", title='Correlation between Payload Mass and Success for All sites')\n        \n            return scatter_fig\n                \n        else:\n            scatter_title1 = f\"Correlation between Payload mass and success - {site_dropdown}\"\n            df_scatter1 =  df_scatter[df_scatter['Launch Site']==site_dropdown]\n            scatter_fig1 = px.scatter(df_scatter1, x='Payload Mass (kg)', y = 'class', color=\"Booster Version Category\", title=scatter_title1)\n            \n            return scatter_fig1\n\n# Run the app\nif __name__ == '__main__':\n    app.run_server()\n"
        }
    ],
    "metadata": {
        "kernelspec": {
            "display_name": "Python 3.8",
            "language": "python",
            "name": "python3"
        },
        "language_info": {
            "codemirror_mode": {
                "name": "ipython",
                "version": 3
            },
            "file_extension": ".py",
            "mimetype": "text/x-python",
            "name": "python",
            "nbconvert_exporter": "python",
            "pygments_lexer": "ipython3",
            "version": "3.8.10"
        }
    },
    "nbformat": 4,
    "nbformat_minor": 1
}